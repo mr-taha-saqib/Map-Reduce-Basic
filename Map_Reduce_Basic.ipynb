{
  "nbformat": 4,
  "nbformat_minor": 0,
  "metadata": {
    "colab": {
      "provenance": []
    },
    "kernelspec": {
      "name": "python3",
      "display_name": "Python 3"
    },
    "language_info": {
      "name": "python"
    }
  },
  "cells": [
    {
      "cell_type": "code",
      "execution_count": null,
      "metadata": {
        "colab": {
          "base_uri": "https://localhost:8080/"
        },
        "id": "rIDQsgRdxCxA",
        "outputId": "f3361935-a517-42f2-e4db-2ae36bc821fd"
      },
      "outputs": [
        {
          "output_type": "stream",
          "name": "stdout",
          "text": [
            "Looking in indexes: https://pypi.org/simple, https://us-python.pkg.dev/colab-wheels/public/simple/\n",
            "Requirement already satisfied: mrjob in /usr/local/lib/python3.8/dist-packages (0.7.4)\n",
            "Requirement already satisfied: PyYAML>=3.10 in /usr/local/lib/python3.8/dist-packages (from mrjob) (6.0)\n"
          ]
        }
      ],
      "source": [
        "pip install mrjob"
      ]
    },
    {
      "cell_type": "code",
      "source": [
        "# Q3: Counting words using MRJob:"
      ],
      "metadata": {
        "id": "AU8vflxfKJhH"
      },
      "execution_count": null,
      "outputs": []
    },
    {
      "cell_type": "code",
      "source": [
        "%%file countword.py\n",
        "from mrjob.job import MRJob\n",
        "\n",
        "class WordCount(MRJob):\n",
        "\n",
        "    def mapper(self, _, line): #map function\n",
        "        words = line.split()\n",
        "        for word in words:\n",
        "            yield word.lower(), 1\n",
        "\n",
        "\n",
        "    def reducer(self, key, values): #reduce function\n",
        "        yield key, sum(values)\n",
        "\n",
        "if __name__ == '__main__':  #access in main\n",
        "    WordCount.run()\n"
      ],
      "metadata": {
        "colab": {
          "base_uri": "https://localhost:8080/"
        },
        "id": "1I-oKJWuxYur",
        "outputId": "58f61b2b-0a12-4c27-b3ac-f729ded93f4e"
      },
      "execution_count": null,
      "outputs": [
        {
          "output_type": "stream",
          "name": "stdout",
          "text": [
            "Overwriting countword.py\n"
          ]
        }
      ]
    },
    {
      "cell_type": "code",
      "source": [
        "! python \"countword.py\" \"data.txt\""
      ],
      "metadata": {
        "colab": {
          "base_uri": "https://localhost:8080/"
        },
        "id": "6ZwecNe8ypZQ",
        "outputId": "d3ea1a16-4cc6-4b07-b5fa-51e290b2977a"
      },
      "execution_count": null,
      "outputs": [
        {
          "output_type": "stream",
          "name": "stdout",
          "text": [
            "No configs found; falling back on auto-configuration\n",
            "No configs specified for inline runner\n",
            "Creating temp directory /tmp/countword.root.20230308.172002.678431\n",
            "Running step 1 of 1...\n",
            "job output is in /tmp/countword.root.20230308.172002.678431/output\n",
            "Streaming final output from /tmp/countword.root.20230308.172002.678431/output...\n",
            "\"the\"\t1\n",
            "\"is\"\t1\n",
            "\"platfrom\"\t1\n",
            "\"for\"\t1\n",
            "\"geeks\"\t3\n",
            "Removing temp directory /tmp/countword.root.20230308.172002.678431...\n"
          ]
        }
      ]
    },
    {
      "cell_type": "code",
      "source": [
        "#Q4: Inverting Index of each word:"
      ],
      "metadata": {
        "id": "FRIaA74UL-k6"
      },
      "execution_count": null,
      "outputs": []
    },
    {
      "cell_type": "code",
      "source": [
        "from mrjob.job import MRJob\n",
        "class InvertedIndex(MRJob):\n",
        "\n",
        "    def mapper(self, _, line):\n",
        "        words = line.split()\n",
        "        filename = 'data.txt'\n",
        "        for word in words:\n",
        "            yield word.lower(), filename\n",
        "\n",
        "    def reducer(self, key, values):\n",
        "        yield key, list(set(values))\n",
        "\n",
        "if __name__ == '__main__':\n",
        "    InvertedIndex.run()"
      ],
      "metadata": {
        "colab": {
          "base_uri": "https://localhost:8080/",
          "height": 148
        },
        "id": "hJnx_sKVzx-m",
        "outputId": "a75644a2-f74e-432e-9809-d3addb12d32c"
      },
      "execution_count": null,
      "outputs": [
        {
          "output_type": "stream",
          "name": "stderr",
          "text": [
            "usage: ipykernel_launcher.py [options] [input files]\n",
            "ipykernel_launcher.py: error: unrecognized arguments: -f\n"
          ]
        },
        {
          "output_type": "error",
          "ename": "SystemExit",
          "evalue": "ignored",
          "traceback": [
            "An exception has occurred, use %tb to see the full traceback.\n",
            "\u001b[0;31mSystemExit\u001b[0m\u001b[0;31m:\u001b[0m 2\n"
          ]
        }
      ]
    },
    {
      "cell_type": "code",
      "source": [
        "#Q5: Counting words using map and reduce functions:"
      ],
      "metadata": {
        "id": "HHU_ehWqMC0s"
      },
      "execution_count": null,
      "outputs": []
    },
    {
      "cell_type": "code",
      "source": [
        "def word_starts_with_alphabet(line): # map function\n",
        "    words = line.split()\n",
        "    counts = {}\n",
        "    for word in words:\n",
        "        if word[0].isalpha():\n",
        "            if word[0].lower() in counts:\n",
        "                counts[word[0].lower()] += 1\n",
        "            else:\n",
        "                counts[word[0].lower()] = 1\n",
        "    return counts\n",
        "\n",
        "\n",
        "def combine_counts(counts1, counts2): # reduce function\n",
        "    for key in counts2:\n",
        "        if key in counts1:\n",
        "            counts1[key] += counts2[key]\n",
        "        else:\n",
        "            counts1[key] = counts2[key]\n",
        "    return counts1\n"
      ],
      "metadata": {
        "id": "74d6Kxzo0h5W"
      },
      "execution_count": null,
      "outputs": []
    },
    {
      "cell_type": "code",
      "source": [
        "#Q6: Counting all words of length 5 and displaying them :"
      ],
      "metadata": {
        "id": "4JQN5gaNPX90"
      },
      "execution_count": null,
      "outputs": []
    },
    {
      "cell_type": "markdown",
      "source": [
        "**Q6: Counting all words of length 5 from a text file and displaying them on the screen using map and reduce functions:**"
      ],
      "metadata": {
        "id": "oZzbvSYr0Rzz"
      }
    },
    {
      "cell_type": "code",
      "source": [
        "# Reduce function\n",
        "def combine_counts(counts1, counts2):\n",
        "    for key in counts2:\n",
        "        if key in counts1:\n",
        "            counts1[key] += counts2[key]\n",
        "        else:\n",
        "            counts1[key] = counts2[key]\n",
        "    return counts1\n",
        "\n",
        "def count_words_of_length_5(line):   # Map function\n",
        "    words = line.split()\n",
        "    counts = {}\n",
        "    for word in words:\n",
        "        if len(word) == 5:\n",
        "            if word in counts:\n",
        "                counts[word] += 1\n",
        "            else:\n",
        "                counts[word] = 1\n",
        "    return counts\n",
        "\n",
        "if __name__ == '__main__': # main function\n",
        "    with open('data.txt') as file:\n",
        "        lines = file.readlines()\n",
        "    word_counts = {}\n",
        "    for line in lines:\n",
        "        counts = count_words_of_length_5(line)\n",
        "        word_counts = combine_counts(word_counts, counts)\n",
        "    for word, count in word_counts.items():\n",
        "        print(f\"{word}: {count}\")\n"
      ],
      "metadata": {
        "colab": {
          "base_uri": "https://localhost:8080/"
        },
        "id": "mXYD7xGU0TzY",
        "outputId": "0aa8893d-79d8-4240-b0a4-6e001466cb41"
      },
      "execution_count": null,
      "outputs": [
        {
          "output_type": "stream",
          "name": "stdout",
          "text": [
            "geeks: 3\n"
          ]
        }
      ]
    }
  ]
}